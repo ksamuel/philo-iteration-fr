{
 "cells": [
  {
   "cell_type": "code",
   "execution_count": 1,
   "metadata": {
    "slideshow": {
     "slide_type": "slide"
    }
   },
   "outputs": [
    {
     "name": "stdout",
     "output_type": "stream",
     "text": [
      "cpython\n",
      "pypy\n",
      "jython\n",
      "ironpython\n"
     ]
    }
   ],
   "source": [
    "implementations = ['cpython', 'pypy', 'jython', 'ironpython']\n",
    "\n",
    "for implementation in implementations:\n",
    "    print(implementation)"
   ]
  },
  {
   "cell_type": "markdown",
   "metadata": {
    "slideshow": {
     "slide_type": "slide"
    }
   },
   "source": [
    "\n",
    "\n",
    "<h1 style=\"text-align: center !important\">La philosophie de l'itération</h1>\n",
    "\n",
    "\n",
    "\n",
    "\n",
    "<p style=\"text-align: center !important\">\n",
    "\n",
    "<br><br><br><br>kevin@formationspython.com\n",
    "\n",
    "</p>\n"
   ]
  },
  {
   "cell_type": "markdown",
   "metadata": {
    "slideshow": {
     "slide_type": "slide"
    }
   },
   "source": [
    "# Un design pattern : iterator"
   ]
  },
  {
   "cell_type": "markdown",
   "metadata": {
    "slideshow": {
     "slide_type": "subslide"
    }
   },
   "source": [
    "Eviter de boucler à la main:\n",
    "\n",
    "```c\n",
    "    const char *relatedTopics[] = { \n",
    "        \"++\", \n",
    "        \"jerome\", \n",
    "        \"pas ma faute\", \n",
    "        NULL \n",
    "    };\n",
    "\n",
    "    for (int i=0; relatedTopics[i]; ++i) {\n",
    "        const char *ch = relatedTopics[i]; \n",
    "        while(*ch) {\n",
    "            putchar(*ch++);\n",
    "            putchar('\\n');\n",
    "        }\n",
    "        putchar('\\n');\n",
    "    }\n",
    "    \n",
    "```"
   ]
  },
  {
   "cell_type": "markdown",
   "metadata": {
    "slideshow": {
     "slide_type": "subslide"
    }
   },
   "source": [
    "<img src=\"java_iterable.png\">"
   ]
  },
  {
   "cell_type": "markdown",
   "metadata": {
    "slideshow": {
     "slide_type": "subslide"
    }
   },
   "source": [
    "<img src=\"c_shar_iterable.png\">"
   ]
  },
  {
   "cell_type": "markdown",
   "metadata": {
    "slideshow": {
     "slide_type": "subslide"
    }
   },
   "source": [
    "# Visitor\n",
    "\n",
    "Methode `forEach` des arrays en JS:\n",
    "\n",
    "```javascript\n",
    "var nope = [\"==\", \"with\", \"eval\"];\n",
    "nope.forEach((e) => {\n",
    "    console.log(e)\n",
    "});\n",
    "```\n",
    "\n",
    "\"L'iterator\" `each` de Ruby:\n",
    "\n",
    "```Ruby\n",
    "popularProjects = [\"RoR\", \"rails\", \"Ruby on Rails\"];\n",
    "popularProjects.each do |i|\n",
    "   puts i\n",
    "end\n",
    "});\n",
    "```\n"
   ]
  },
  {
   "cell_type": "markdown",
   "metadata": {
    "slideshow": {
     "slide_type": "slide"
    }
   },
   "source": [
    "# Comment Python fait marcher tout ça"
   ]
  },
  {
   "cell_type": "code",
   "execution_count": 2,
   "metadata": {
    "slideshow": {
     "slide_type": "subslide"
    }
   },
   "outputs": [
    {
     "name": "stdout",
     "output_type": "stream",
     "text": [
      "<class 'list'> de cris :\n",
      "Cowabunga !\n",
      "Yippee ki-yay, mofo !\n",
      "Wololo !\n"
     ]
    }
   ],
   "source": [
    "cris = ['Cowabunga', 'Yippee ki-yay, mofo', 'Wololo'] \n",
    "\n",
    "# cris = set(['Cowabunga', 'Yippee ki-yay, mofo', 'Wololo'])\n",
    "# cris = tuple(['Cowabunga', 'Yippee ki-yay, mofo', 'Wololo'])\n",
    "# cris = dict.fromkeys(['Cowabunga', 'Yippee ki-yay, mofo', 'Wololo'])\n",
    "\n",
    "print(f\"{type(cris)} de cris :\")\n",
    "\n",
    "for cri in cris:\n",
    "    print(cri, '!')\n"
   ]
  },
  {
   "cell_type": "code",
   "execution_count": 3,
   "metadata": {
    "slideshow": {
     "slide_type": "subslide"
    }
   },
   "outputs": [],
   "source": [
    "cris = ['Cowabunga', 'Yippee ki-yay, mofo', 'Wololo'] \n",
    "\n",
    "#cris = set(['Cowabunga', 'Yippee ki-yay, mofo', 'Wololo'])\n",
    "#cris = tuple(['Cowabunga', 'Yippee ki-yay, mofo', 'Wololo'])\n",
    "#cris = dict.fromkeys(['Cowabunga', 'Yippee ki-yay, mofo', 'Wololo'])"
   ]
  },
  {
   "cell_type": "code",
   "execution_count": 4,
   "metadata": {
    "slideshow": {
     "slide_type": "fragment"
    }
   },
   "outputs": [],
   "source": [
    "sauce_magique = iter(cris)"
   ]
  },
  {
   "cell_type": "code",
   "execution_count": 5,
   "metadata": {
    "slideshow": {
     "slide_type": "fragment"
    }
   },
   "outputs": [
    {
     "data": {
      "text/plain": [
       "list_iterator"
      ]
     },
     "execution_count": 5,
     "metadata": {},
     "output_type": "execute_result"
    }
   ],
   "source": [
    "type(sauce_magique)"
   ]
  },
  {
   "cell_type": "code",
   "execution_count": 6,
   "metadata": {
    "slideshow": {
     "slide_type": "fragment"
    }
   },
   "outputs": [
    {
     "data": {
      "text/plain": [
       "'Cowabunga'"
      ]
     },
     "execution_count": 6,
     "metadata": {},
     "output_type": "execute_result"
    }
   ],
   "source": [
    "next(sauce_magique)"
   ]
  },
  {
   "cell_type": "code",
   "execution_count": 7,
   "metadata": {
    "slideshow": {
     "slide_type": "fragment"
    }
   },
   "outputs": [
    {
     "data": {
      "text/plain": [
       "'Yippee ki-yay, mofo'"
      ]
     },
     "execution_count": 7,
     "metadata": {},
     "output_type": "execute_result"
    }
   ],
   "source": [
    "next(sauce_magique)"
   ]
  },
  {
   "cell_type": "code",
   "execution_count": 8,
   "metadata": {
    "slideshow": {
     "slide_type": "fragment"
    }
   },
   "outputs": [
    {
     "data": {
      "text/plain": [
       "'Wololo'"
      ]
     },
     "execution_count": 8,
     "metadata": {},
     "output_type": "execute_result"
    }
   ],
   "source": [
    "next(sauce_magique)"
   ]
  },
  {
   "cell_type": "code",
   "execution_count": 10,
   "metadata": {
    "slideshow": {
     "slide_type": "fragment"
    }
   },
   "outputs": [
    {
     "ename": "StopIteration",
     "evalue": "",
     "output_type": "error",
     "traceback": [
      "\u001b[0;31m---------------------------------------------------------------------------\u001b[0m",
      "\u001b[0;31mStopIteration\u001b[0m                             Traceback (most recent call last)",
      "\u001b[0;32m<ipython-input-10-1d04ef51b335>\u001b[0m in \u001b[0;36m<module>\u001b[0;34m()\u001b[0m\n\u001b[0;32m----> 1\u001b[0;31m \u001b[0mnext\u001b[0m\u001b[0;34m(\u001b[0m\u001b[0msauce_magique\u001b[0m\u001b[0;34m)\u001b[0m\u001b[0;34m\u001b[0m\u001b[0m\n\u001b[0m",
      "\u001b[0;31mStopIteration\u001b[0m: "
     ]
    }
   ],
   "source": [
    "next(sauce_magique)"
   ]
  },
  {
   "cell_type": "markdown",
   "metadata": {
    "slideshow": {
     "slide_type": "slide"
    }
   },
   "source": [
    "# Iterator, l'interface universelle"
   ]
  },
  {
   "cell_type": "code",
   "execution_count": 11,
   "metadata": {
    "slideshow": {
     "slide_type": "subslide"
    }
   },
   "outputs": [
    {
     "name": "stdout",
     "output_type": "stream",
     "text": [
      "1\n",
      "2\n",
      "3\n"
     ]
    }
   ],
   "source": [
    "for i in range(1, 4):\n",
    "    print(i)"
   ]
  },
  {
   "cell_type": "code",
   "execution_count": 12,
   "metadata": {
    "slideshow": {
     "slide_type": "fragment"
    }
   },
   "outputs": [
    {
     "name": "stdout",
     "output_type": "stream",
     "text": [
      "a\n",
      "b\n",
      "c\n"
     ]
    }
   ],
   "source": [
    "for lettre in \"abc\":\n",
    "    print(lettre)"
   ]
  },
  {
   "cell_type": "code",
   "execution_count": 13,
   "metadata": {
    "slideshow": {
     "slide_type": "fragment"
    }
   },
   "outputs": [
    {
     "name": "stdout",
     "output_type": "stream",
     "text": [
      "Chez moi ça marche\n",
      "\n",
      "T'as rebooté ?\n",
      "\n",
      "Réessaye pour voir\n",
      "\n"
     ]
    }
   ],
   "source": [
    "for ligne in open('answers.txt'):\n",
    "    print(ligne)"
   ]
  },
  {
   "cell_type": "code",
   "execution_count": 14,
   "metadata": {
    "slideshow": {
     "slide_type": "subslide"
    }
   },
   "outputs": [
    {
     "data": {
      "text/plain": [
       "['Chez moi ça marche\\n', \"T'as rebooté ?\\n\", 'Réessaye pour voir\\n']"
      ]
     },
     "execution_count": 14,
     "metadata": {},
     "output_type": "execute_result"
    }
   ],
   "source": [
    "list(open('answers.txt'))"
   ]
  },
  {
   "cell_type": "code",
   "execution_count": 15,
   "metadata": {
    "slideshow": {
     "slide_type": "fragment"
    }
   },
   "outputs": [
    {
     "data": {
      "text/plain": [
       "(1, 2, 3)"
      ]
     },
     "execution_count": 15,
     "metadata": {},
     "output_type": "execute_result"
    }
   ],
   "source": [
    "tuple(range(1, 4))"
   ]
  },
  {
   "cell_type": "code",
   "execution_count": 16,
   "metadata": {
    "slideshow": {
     "slide_type": "fragment"
    }
   },
   "outputs": [
    {
     "data": {
      "text/plain": [
       "{'a', 'b', 'c'}"
      ]
     },
     "execution_count": 16,
     "metadata": {},
     "output_type": "execute_result"
    }
   ],
   "source": [
    "set('abc')"
   ]
  },
  {
   "cell_type": "code",
   "execution_count": 17,
   "metadata": {
    "slideshow": {
     "slide_type": "subslide"
    }
   },
   "outputs": [
    {
     "data": {
      "text/plain": [
       "6"
      ]
     },
     "execution_count": 17,
     "metadata": {},
     "output_type": "execute_result"
    }
   ],
   "source": [
    "sum([1, 2, 3])"
   ]
  },
  {
   "cell_type": "code",
   "execution_count": 18,
   "metadata": {
    "slideshow": {
     "slide_type": "fragment"
    }
   },
   "outputs": [
    {
     "data": {
      "text/plain": [
       "6"
      ]
     },
     "execution_count": 18,
     "metadata": {},
     "output_type": "execute_result"
    }
   ],
   "source": [
    "sum(set([1, 2, 3]))"
   ]
  },
  {
   "cell_type": "code",
   "execution_count": 19,
   "metadata": {
    "slideshow": {
     "slide_type": "fragment"
    }
   },
   "outputs": [
    {
     "data": {
      "text/plain": [
       "6"
      ]
     },
     "execution_count": 19,
     "metadata": {},
     "output_type": "execute_result"
    }
   ],
   "source": [
    "sum(range(1, 4))"
   ]
  },
  {
   "cell_type": "code",
   "execution_count": 20,
   "metadata": {
    "slideshow": {
     "slide_type": "fragment"
    }
   },
   "outputs": [
    {
     "data": {
      "text/plain": [
       "6"
      ]
     },
     "execution_count": 20,
     "metadata": {},
     "output_type": "execute_result"
    }
   ],
   "source": [
    "sum(map(int, \"123\"))"
   ]
  },
  {
   "cell_type": "code",
   "execution_count": 21,
   "metadata": {
    "slideshow": {
     "slide_type": "subslide"
    }
   },
   "outputs": [
    {
     "data": {
      "text/plain": [
       "['Cowabunga', 'Wololo', 'Yippee ki-yay, mofo']"
      ]
     },
     "execution_count": 21,
     "metadata": {},
     "output_type": "execute_result"
    }
   ],
   "source": [
    "sorted(set(['Cowabunga', 'Yippee ki-yay, mofo', 'Wololo']))"
   ]
  },
  {
   "cell_type": "code",
   "execution_count": 22,
   "metadata": {
    "slideshow": {
     "slide_type": "fragment"
    }
   },
   "outputs": [
    {
     "data": {
      "text/plain": [
       "[True, 1]"
      ]
     },
     "execution_count": 22,
     "metadata": {},
     "output_type": "execute_result"
    }
   ],
   "source": [
    "list(filter(bool, (True, False, None, 1, 0)))"
   ]
  },
  {
   "cell_type": "code",
   "execution_count": 23,
   "metadata": {
    "slideshow": {
     "slide_type": "fragment"
    }
   },
   "outputs": [
    {
     "data": {
      "text/plain": [
       "\"Chez moi ça marche\\n/////////////T'as rebooté ?\\n/////////////Réessaye pour voir\\n\""
      ]
     },
     "execution_count": 23,
     "metadata": {},
     "output_type": "execute_result"
    }
   ],
   "source": [
    "\"/////////////\".join(open('answers.txt'))"
   ]
  },
  {
   "cell_type": "code",
   "execution_count": 24,
   "metadata": {
    "slideshow": {
     "slide_type": "fragment"
    }
   },
   "outputs": [
    {
     "name": "stdout",
     "output_type": "stream",
     "text": [
      "1 a\n",
      "2 b\n",
      "3 c\n"
     ]
    }
   ],
   "source": [
    "for i, ligne in enumerate('abc', 1):\n",
    "    print(i, ligne)"
   ]
  },
  {
   "cell_type": "markdown",
   "metadata": {
    "slideshow": {
     "slide_type": "subslide"
    }
   },
   "source": [
    "## L'unpacking"
   ]
  },
  {
   "cell_type": "code",
   "execution_count": 25,
   "metadata": {
    "slideshow": {
     "slide_type": "fragment"
    }
   },
   "outputs": [
    {
     "name": "stdout",
     "output_type": "stream",
     "text": [
      "1\n"
     ]
    }
   ],
   "source": [
    "x, y = (1, 2)\n",
    "print(x)"
   ]
  },
  {
   "cell_type": "code",
   "execution_count": 26,
   "metadata": {},
   "outputs": [
    {
     "name": "stdout",
     "output_type": "stream",
     "text": [
      "2\n"
     ]
    }
   ],
   "source": [
    "def point():\n",
    "    return 1, 2\n",
    "\n",
    "x, y = point()\n",
    "print(y)"
   ]
  },
  {
   "cell_type": "code",
   "execution_count": 27,
   "metadata": {
    "slideshow": {
     "slide_type": "subslide"
    }
   },
   "outputs": [
    {
     "name": "stdout",
     "output_type": "stream",
     "text": [
      "a = Aligator\n",
      "b = Behemot\n",
      "c = Claude\n"
     ]
    }
   ],
   "source": [
    "a, b, c = [\"Aligator\", \"Behemot\", \"Claude\"]\n",
    "print(f'a = {a}')\n",
    "print(f'b = {b}')\n",
    "print(f'c = {c}')  "
   ]
  },
  {
   "cell_type": "code",
   "execution_count": 28,
   "metadata": {
    "slideshow": {
     "slide_type": "fragment"
    }
   },
   "outputs": [
    {
     "name": "stdout",
     "output_type": "stream",
     "text": [
      "a = Chez moi ça marche\n",
      "\n",
      "b = T'as rebooté ?\n",
      "\n",
      "c = Réessaye pour voir\n",
      "\n"
     ]
    }
   ],
   "source": [
    "a, b, c = open('answers.txt')\n",
    "print(f'a = {a}')\n",
    "print(f'b = {b}')\n",
    "print(f'c = {c}') "
   ]
  },
  {
   "cell_type": "code",
   "execution_count": 29,
   "metadata": {
    "slideshow": {
     "slide_type": "fragment"
    }
   },
   "outputs": [
    {
     "name": "stdout",
     "output_type": "stream",
     "text": [
      "a = 0\n",
      "b = [1, 2, 3, 4, 5, 6, 7, 8, 9, 10, 11, 12, 13, 14, 15, 16, 17, 18, 19, 20, 21, 22, 23, 24, 25, 26, 27, 28, 29, 30, 31, 32, 33, 34, 35, 36, 37, 38, 39, 40, 41, 42, 43, 44, 45, 46, 47, 48, 49, 50, 51, 52, 53, 54, 55, 56, 57, 58, 59, 60, 61, 62, 63, 64, 65, 66, 67, 68, 69, 70, 71, 72, 73, 74, 75, 76, 77, 78, 79, 80, 81, 82, 83, 84, 85, 86, 87, 88, 89, 90, 91, 92, 93, 94, 95, 96, 97, 98]\n",
      "d = 99\n"
     ]
    }
   ],
   "source": [
    "a, *b, d = range(100)\n",
    "print(f'a = {a}')\n",
    "print(f'b = {b}')\n",
    "print(f'd = {d}')"
   ]
  },
  {
   "cell_type": "code",
   "execution_count": 30,
   "metadata": {
    "slideshow": {
     "slide_type": "subslide"
    }
   },
   "outputs": [
    {
     "name": "stdout",
     "output_type": "stream",
     "text": [
      "a#b#c\n"
     ]
    }
   ],
   "source": [
    "print(*'abc', sep=\"#\")  # équivaut à print(\"a\", \"b\", \"c\", sep=\"#\")"
   ]
  },
  {
   "cell_type": "code",
   "execution_count": 31,
   "metadata": {
    "slideshow": {
     "slide_type": "fragment"
    }
   },
   "outputs": [
    {
     "data": {
      "text/plain": [
       "[0,\n",
       " 1,\n",
       " 2,\n",
       " 'Chez moi ça marche\\n',\n",
       " \"T'as rebooté ?\\n\",\n",
       " 'Réessaye pour voir\\n',\n",
       " 'Cowabunga',\n",
       " 'Yippee ki-yay, mofo',\n",
       " 'Wololo']"
      ]
     },
     "execution_count": 31,
     "metadata": {},
     "output_type": "execute_result"
    }
   ],
   "source": [
    "[*range(3), *open('answers.txt'), *set(cris)]  # marche aussi pour merger des dictionnaires avec ** :)"
   ]
  },
  {
   "cell_type": "code",
   "execution_count": 32,
   "metadata": {
    "slideshow": {
     "slide_type": "fragment"
    }
   },
   "outputs": [
    {
     "data": {
      "text/plain": [
       "['bleu', 'vert', 'rouge', 'bleu', 'vert', 'rouge', 'bleu', 'vert', 'rouge']"
      ]
     },
     "execution_count": 32,
     "metadata": {},
     "output_type": "execute_result"
    }
   ],
   "source": [
    "pixels = [\"rouge\", \"vert\", \"bleu\", \"rouge\", \"vert\", \"bleu\", \"rouge\", \"vert\", \"bleu\"]\n",
    "pixels[::3], pixels[2::3] = pixels[2::3], pixels[::3]\n",
    "pixels"
   ]
  },
  {
   "cell_type": "code",
   "execution_count": 79,
   "metadata": {
    "slideshow": {
     "slide_type": "subslide"
    }
   },
   "outputs": [
    {
     "data": {
      "text/plain": [
       "Counter({'c': 1,\n",
       "         'd': 5,\n",
       "         'f': 4,\n",
       "         'h': 3,\n",
       "         'j': 3,\n",
       "         'k': 5,\n",
       "         'l': 3,\n",
       "         'q': 2,\n",
       "         's': 1,\n",
       "         'v': 1})"
      ]
     },
     "execution_count": 79,
     "metadata": {},
     "output_type": "execute_result"
    }
   ],
   "source": [
    "import collections # amis des itérables\n",
    "\n",
    "collections.Counter('dkjflchldkfhjdlskqfvdkfdhqkj')\n",
    "\n",
    "# collections.deque\n",
    "# collections.defaultdict\n",
    "# collections.OrderedDict\n",
    "# collections.namedtuple"
   ]
  },
  {
   "cell_type": "code",
   "execution_count": 36,
   "metadata": {
    "slideshow": {
     "slide_type": "fragment"
    }
   },
   "outputs": [
    {
     "name": "stdout",
     "output_type": "stream",
     "text": [
      "True\n",
      "False\n",
      "10\n"
     ]
    }
   ],
   "source": [
    "# Prend n'importe quel itérable\n",
    "\n",
    "print(any([True, True, False, True, False]))\n",
    "print(all([True, True, False, True, False]))\n",
    "print(max([5, 10, 4, 1]))\n",
    "# min\n",
    "# reduce"
   ]
  },
  {
   "cell_type": "markdown",
   "metadata": {
    "slideshow": {
     "slide_type": "subslide"
    }
   },
   "source": [
    "Retourne des itérables:\n",
    "\n",
    "- bytes\n",
    "- csv.reader\n",
    "- os.walk\n",
    "- multiprocessing.Pool.map\n",
    "- sqlite3.cursor\n",
    "- xml.etree.ElementTree\n",
    "\n",
    "\n",
    "Et même les libs externes:\n",
    "\n",
    "- Querysets des ORMs (Django, SQLAlchemy, Peewee...);\n",
    "- Body des réponses de WSGI "
   ]
  },
  {
   "cell_type": "markdown",
   "metadata": {
    "slideshow": {
     "slide_type": "subslide"
    }
   },
   "source": [
    "## Un module juste pour les itérables\n",
    "\n",
    "\n",
    "\n",
    "```python\n",
    "import itertools\n",
    "\n",
    "itertools.accumulate\n",
    "itertools.chain\n",
    "itertools.combinations\n",
    "itertools.combinations_with_replacement\n",
    "itertools.compress\n",
    "itertools.count\n",
    "itertools.cycle\n",
    "itertools.dropwhile\n",
    "itertools.filterfalse\n",
    "itertools.groupby\n",
    "itertools.islice\n",
    "itertools.permutations\n",
    "itertools.product\n",
    "itertools.repeat\n",
    "itertools.starmap\n",
    "itertools.takewhile\n",
    "itertools.tee\n",
    "itertools.zip_longest\n",
    "```"
   ]
  },
  {
   "cell_type": "code",
   "execution_count": 39,
   "metadata": {
    "slideshow": {
     "slide_type": "subslide"
    }
   },
   "outputs": [
    {
     "name": "stdout",
     "output_type": "stream",
     "text": [
      "a\n",
      "b\n",
      "c\n",
      "0\n",
      "1\n",
      "2\n"
     ]
    }
   ],
   "source": [
    "import itertools\n",
    "for x in itertools.chain('abc', range(3)):\n",
    "    print(x)"
   ]
  },
  {
   "cell_type": "code",
   "execution_count": 40,
   "metadata": {
    "slideshow": {
     "slide_type": "fragment"
    }
   },
   "outputs": [
    {
     "data": {
      "text/plain": [
       "[('a', 0),\n",
       " ('a', 1),\n",
       " ('a', 2),\n",
       " ('b', 0),\n",
       " ('b', 1),\n",
       " ('b', 2),\n",
       " ('c', 0),\n",
       " ('c', 1),\n",
       " ('c', 2)]"
      ]
     },
     "execution_count": 40,
     "metadata": {},
     "output_type": "execute_result"
    }
   ],
   "source": [
    "list(itertools.product('abc', range(3)))"
   ]
  },
  {
   "cell_type": "code",
   "execution_count": 41,
   "metadata": {
    "slideshow": {
     "slide_type": "fragment"
    }
   },
   "outputs": [
    {
     "name": "stdout",
     "output_type": "stream",
     "text": [
      "a\n",
      "b\n",
      "c\n",
      "a\n"
     ]
    }
   ],
   "source": [
    "histoire_de_la_vie = iter(itertools.cycle('abc'))\n",
    "print(next(histoire_de_la_vie))\n",
    "print(next(histoire_de_la_vie))\n",
    "print(next(histoire_de_la_vie))\n",
    "print(next(histoire_de_la_vie))"
   ]
  },
  {
   "cell_type": "markdown",
   "metadata": {
    "slideshow": {
     "slide_type": "slide"
    }
   },
   "source": [
    "# Le flux de données"
   ]
  },
  {
   "cell_type": "code",
   "execution_count": 42,
   "metadata": {
    "slideshow": {
     "slide_type": "subslide"
    }
   },
   "outputs": [
    {
     "name": "stdout",
     "output_type": "stream",
     "text": [
      "docker0   Link encap:Ethernet  HWaddr 02:42:70:a2:48:86  \n",
      "          inet adr:172.17.0.1  Bcast:0.0.0.0  Masque:255.255.0.0\n",
      "          UP BROADCAST MULTICAST  MTU:1500  Metric:1\n",
      "          Packets reçus:0 erreurs:0 :0 overruns:0 frame:0\n",
      "          TX packets:0 errors:0 dropped:0 overruns:0 carrier:0\n",
      "          collisions:0 lg file transmission:0 \n",
      "          Octets reçus:0 (0.0 B) Octets transmis:0 (0.0 B)\n",
      "\n",
      "enx644bf0013110 Link encap:Ethernet  HWaddr 64:4b:f0:01:31:10  \n",
      "          inet adr:192.168.1.10  Bcast:192.168.1.255  Masque:255.255.255.0\n",
      "          adr inet6: 2a01:cb1d:16:5b00:6a2c:d680:372e:a92a/64 Scope:Global\n",
      "          adr inet6: fe80::1ff5:8827:4cd9:fdf2/64 Scope:Lien\n",
      "          UP BROADCAST RUNNING MULTICAST  MTU:1500  Metric:1\n",
      "          Packets reçus:310258 erreurs:0 :0 overruns:0 frame:0\n",
      "          TX packets:185186 errors:0 dropped:0 overruns:0 carrier:0\n",
      "          collisions:0 lg file transmission:1000 \n",
      "          Octets reçus:337432415 (337.4 MB) Octets transmis:20810130 (20.8 MB)\n",
      "\n",
      "lo        Link encap:Boucle locale  \n",
      "          inet adr:127.0.0.1  Masque:255.0.0.0\n",
      "          adr inet6: ::1/128 Scope:Hôte\n",
      "          UP LOOPBACK RUNNING  MTU:65536  Metric:1\n",
      "          Packets reçus:30249 erreurs:0 :0 overruns:0 frame:0\n",
      "          TX packets:30249 errors:0 dropped:0 overruns:0 carrier:0\n",
      "          collisions:0 lg file transmission:1000 \n",
      "          Octets reçus:18551108 (18.5 MB) Octets transmis:18551108 (18.5 MB)\n",
      "\n",
      "wlp2s0    Link encap:Ethernet  HWaddr 44:1c:a8:e2:1a:df  \n",
      "          UP BROADCAST MULTICAST  MTU:1500  Metric:1\n",
      "          Packets reçus:10400 erreurs:0 :121 overruns:0 frame:0\n",
      "          TX packets:5860 errors:0 dropped:0 overruns:0 carrier:0\n",
      "          collisions:0 lg file transmission:1000 \n",
      "          Octets reçus:11993856 (11.9 MB) Octets transmis:592176 (592.1 KB)\n",
      "\n",
      "\n"
     ]
    }
   ],
   "source": [
    "import subprocess\n",
    "\n",
    "res = subprocess.check_output([\"ifconfig\"], encoding=\"utf8\")   # devinez ce qu'attend \"call\" en paramètre ?\n",
    "\n",
    "print(res) "
   ]
  },
  {
   "cell_type": "code",
   "execution_count": 43,
   "metadata": {
    "slideshow": {
     "slide_type": "subslide"
    }
   },
   "outputs": [],
   "source": [
    "import re, subprocess\n",
    "\n",
    "res = subprocess.check_output([\"ifconfig\"], encoding=\"utf8\")\n",
    "reg = re.compile(r'(\\S+).*\\n.*adr:(\\S+)')"
   ]
  },
  {
   "cell_type": "code",
   "execution_count": 44,
   "metadata": {
    "slideshow": {
     "slide_type": "fragment"
    }
   },
   "outputs": [
    {
     "name": "stdout",
     "output_type": "stream",
     "text": [
      "{'docker0': '172.17.0.1', 'enx644bf0013110': '192.168.1.10', 'lo': '127.0.0.1'}\n"
     ]
    }
   ],
   "source": [
    "interfaces = {}\n",
    "for block in res.split('\\n\\n'): \n",
    "    if 'adr' in block:\n",
    "        interface, ip = reg.match(block).groups()\n",
    "        interfaces[interface] = ip\n",
    "print(interfaces)"
   ]
  },
  {
   "cell_type": "code",
   "execution_count": 45,
   "metadata": {
    "slideshow": {
     "slide_type": "fragment"
    }
   },
   "outputs": [
    {
     "data": {
      "text/plain": [
       "{'docker0': '172.17.0.1', 'enx644bf0013110': '192.168.1.10', 'lo': '127.0.0.1'}"
      ]
     },
     "execution_count": 45,
     "metadata": {},
     "output_type": "execute_result"
    }
   ],
   "source": [
    "interfaces = [reg.match(block).groups() for block in res.split('\\n\\n') if 'adr' in block]\n",
    "dict(interfaces)"
   ]
  },
  {
   "cell_type": "markdown",
   "metadata": {
    "slideshow": {
     "slide_type": "subslide"
    }
   },
   "source": [
    "## Les intensions"
   ]
  },
  {
   "cell_type": "code",
   "execution_count": 46,
   "metadata": {
    "slideshow": {
     "slide_type": "fragment"
    }
   },
   "outputs": [
    {
     "data": {
      "text/plain": [
       "[0, 1, 4, 9, 16, 25, 36, 49, 64, 81]"
      ]
     },
     "execution_count": 46,
     "metadata": {},
     "output_type": "execute_result"
    }
   ],
   "source": [
    "[x * x for x in range(10)]"
   ]
  },
  {
   "cell_type": "code",
   "execution_count": 47,
   "metadata": {
    "slideshow": {
     "slide_type": "fragment"
    }
   },
   "outputs": [
    {
     "data": {
      "text/plain": [
       "{0: 0, 1: 1, 2: 4, 3: 9, 4: 16, 5: 25, 6: 36, 7: 49, 8: 64, 9: 81}"
      ]
     },
     "execution_count": 47,
     "metadata": {},
     "output_type": "execute_result"
    }
   ],
   "source": [
    "{x: x * x for x in range(10)}"
   ]
  },
  {
   "cell_type": "code",
   "execution_count": 48,
   "metadata": {
    "slideshow": {
     "slide_type": "fragment"
    }
   },
   "outputs": [
    {
     "data": {
      "text/plain": [
       "{0, 1, 4, 9, 16, 25, 36, 49, 64, 81}"
      ]
     },
     "execution_count": 48,
     "metadata": {},
     "output_type": "execute_result"
    }
   ],
   "source": [
    "{x * x for x in range(10)}"
   ]
  },
  {
   "cell_type": "markdown",
   "metadata": {
    "slideshow": {
     "slide_type": "subslide"
    }
   },
   "source": [
    "## Les expressions génératrices"
   ]
  },
  {
   "cell_type": "code",
   "execution_count": 49,
   "metadata": {
    "slideshow": {
     "slide_type": "fragment"
    }
   },
   "outputs": [],
   "source": [
    "# NOPE !\n",
    "# res = [x * x for x in range(10000000000000)] "
   ]
  },
  {
   "cell_type": "code",
   "execution_count": 50,
   "metadata": {
    "slideshow": {
     "slide_type": "fragment"
    }
   },
   "outputs": [],
   "source": [
    "res = (x * x for x in range(10000000000000))"
   ]
  },
  {
   "cell_type": "code",
   "execution_count": 51,
   "metadata": {
    "slideshow": {
     "slide_type": "fragment"
    }
   },
   "outputs": [
    {
     "data": {
      "text/plain": [
       "<generator object <genexpr> at 0x7f0808755360>"
      ]
     },
     "execution_count": 51,
     "metadata": {},
     "output_type": "execute_result"
    }
   ],
   "source": [
    "res"
   ]
  },
  {
   "cell_type": "code",
   "execution_count": 52,
   "metadata": {
    "slideshow": {
     "slide_type": "fragment"
    }
   },
   "outputs": [
    {
     "data": {
      "text/plain": [
       "0"
      ]
     },
     "execution_count": 52,
     "metadata": {},
     "output_type": "execute_result"
    }
   ],
   "source": [
    "next(res)"
   ]
  },
  {
   "cell_type": "code",
   "execution_count": 53,
   "metadata": {
    "slideshow": {
     "slide_type": "fragment"
    }
   },
   "outputs": [
    {
     "data": {
      "text/plain": [
       "1"
      ]
     },
     "execution_count": 53,
     "metadata": {},
     "output_type": "execute_result"
    }
   ],
   "source": [
    "next(res)"
   ]
  },
  {
   "cell_type": "code",
   "execution_count": 54,
   "metadata": {
    "slideshow": {
     "slide_type": "fragment"
    }
   },
   "outputs": [
    {
     "name": "stdout",
     "output_type": "stream",
     "text": [
      "4\n",
      "9\n",
      "16\n"
     ]
    }
   ],
   "source": [
    "print(next(res))\n",
    "print(next(res))\n",
    "print(next(res))"
   ]
  },
  {
   "cell_type": "code",
   "execution_count": 55,
   "metadata": {
    "slideshow": {
     "slide_type": "subslide"
    }
   },
   "outputs": [],
   "source": [
    "import sqlite3\n",
    "\n",
    "def get_results(n=10, profile=\"/home/pycon/.mozilla/firefox/l92ue2kx.default/places.sqlite\"):\n",
    "    return sqlite3.connect(profile).execute(\"\"\"\n",
    "        SELECT sites.rev_host as host, count(*) as visits FROM moz_historyvisits as visits, moz_places as sites\n",
    "        WHERE  visits.place_id == sites.id GROUP BY host ORDER BY visits DESC\n",
    "    \"\"\")"
   ]
  },
  {
   "cell_type": "code",
   "execution_count": 56,
   "metadata": {
    "slideshow": {
     "slide_type": "fragment"
    }
   },
   "outputs": [],
   "source": [
    "sites = ((dom[-2::-1], vis) for dom, vis in get_results())"
   ]
  },
  {
   "cell_type": "code",
   "execution_count": 57,
   "metadata": {
    "slideshow": {
     "slide_type": "fragment"
    }
   },
   "outputs": [],
   "source": [
    "MOTEURS = set(['duckduckgo', 'google', 'bing', 'qwant'])\n",
    "sites = ((dom, vis) for dom, vis in sites if not any(m in dom for m in MOTEURS)) "
   ]
  },
  {
   "cell_type": "code",
   "execution_count": 58,
   "metadata": {
    "slideshow": {
     "slide_type": "fragment"
    }
   },
   "outputs": [],
   "source": [
    "import itertools\n",
    "sites = itertools.islice(sites, 0, 5) "
   ]
  },
  {
   "cell_type": "code",
   "execution_count": 59,
   "metadata": {
    "slideshow": {
     "slide_type": "fragment"
    }
   },
   "outputs": [
    {
     "data": {
      "text/plain": [
       "<itertools.islice at 0x7f080873adb8>"
      ]
     },
     "execution_count": 59,
     "metadata": {},
     "output_type": "execute_result"
    }
   ],
   "source": [
    "sites"
   ]
  },
  {
   "cell_type": "code",
   "execution_count": 60,
   "metadata": {
    "slideshow": {
     "slide_type": "fragment"
    }
   },
   "outputs": [
    {
     "data": {
      "text/plain": [
       "('localhost', 359)"
      ]
     },
     "execution_count": 60,
     "metadata": {},
     "output_type": "execute_result"
    }
   ],
   "source": [
    "next(sites)"
   ]
  },
  {
   "cell_type": "code",
   "execution_count": 61,
   "metadata": {
    "slideshow": {
     "slide_type": "fragment"
    }
   },
   "outputs": [
    {
     "data": {
      "text/plain": [
       "('nbviewer.jupyter.org', 41)"
      ]
     },
     "execution_count": 61,
     "metadata": {},
     "output_type": "execute_result"
    }
   ],
   "source": [
    "next(sites)"
   ]
  },
  {
   "cell_type": "code",
   "execution_count": 62,
   "metadata": {
    "slideshow": {
     "slide_type": "fragment"
    }
   },
   "outputs": [
    {
     "name": "stdout",
     "output_type": "stream",
     "text": [
      "('github.com', 9)\n",
      "('lastpass.com', 9)\n",
      "('www.lastpass.com', 7)\n"
     ]
    }
   ],
   "source": [
    "for s in sites:\n",
    "    print(s)"
   ]
  },
  {
   "cell_type": "markdown",
   "metadata": {
    "slideshow": {
     "slide_type": "subslide"
    }
   },
   "source": [
    "## Yield"
   ]
  },
  {
   "cell_type": "code",
   "execution_count": 63,
   "metadata": {
    "slideshow": {
     "slide_type": "subslide"
    }
   },
   "outputs": [
    {
     "name": "stdout",
     "output_type": "stream",
     "text": [
      "Avant le premier return\n",
      "1\n"
     ]
    }
   ],
   "source": [
    "def fonction_normale():\n",
    "    print('Avant le premier return')\n",
    "    return 1\n",
    "    print('Apres le premier return')\n",
    "    return 2\n",
    "    print(\"Apres le second return\")\n",
    "    return 3\n",
    "    print('Tout à la fin')\n",
    "    \n",
    "res = fonction_normale()\n",
    "print(res)"
   ]
  },
  {
   "cell_type": "code",
   "execution_count": 64,
   "metadata": {
    "slideshow": {
     "slide_type": "subslide"
    }
   },
   "outputs": [
    {
     "name": "stdout",
     "output_type": "stream",
     "text": [
      "<generator object fabriquer_un_generateur at 0x7f0808755570>\n"
     ]
    }
   ],
   "source": [
    "def fabriquer_un_generateur():\n",
    "    print('Avant le premier yield')\n",
    "    yield 1\n",
    "    print('Apres le premier yield')\n",
    "    yield 2\n",
    "    print(\"Apres le second yield\")\n",
    "    yield 3\n",
    "    print('Tout à la fin')\n",
    "    \n",
    "res = fabriquer_un_generateur()\n",
    "print(res)"
   ]
  },
  {
   "cell_type": "code",
   "execution_count": 65,
   "metadata": {
    "slideshow": {
     "slide_type": "fragment"
    }
   },
   "outputs": [
    {
     "name": "stdout",
     "output_type": "stream",
     "text": [
      "Avant le premier yield\n"
     ]
    },
    {
     "data": {
      "text/plain": [
       "1"
      ]
     },
     "execution_count": 65,
     "metadata": {},
     "output_type": "execute_result"
    }
   ],
   "source": [
    "next(res)"
   ]
  },
  {
   "cell_type": "code",
   "execution_count": 66,
   "metadata": {
    "slideshow": {
     "slide_type": "fragment"
    }
   },
   "outputs": [
    {
     "name": "stdout",
     "output_type": "stream",
     "text": [
      "Apres le premier yield\n"
     ]
    },
    {
     "data": {
      "text/plain": [
       "2"
      ]
     },
     "execution_count": 66,
     "metadata": {},
     "output_type": "execute_result"
    }
   ],
   "source": [
    "next(res)"
   ]
  },
  {
   "cell_type": "code",
   "execution_count": 67,
   "metadata": {
    "slideshow": {
     "slide_type": "fragment"
    }
   },
   "outputs": [
    {
     "name": "stdout",
     "output_type": "stream",
     "text": [
      "Apres le second yield\n",
      "3\n",
      "Tout à la fin\n"
     ]
    }
   ],
   "source": [
    "for x in res:\n",
    "    print(x)"
   ]
  },
  {
   "cell_type": "code",
   "execution_count": 68,
   "metadata": {
    "slideshow": {
     "slide_type": "subslide"
    }
   },
   "outputs": [],
   "source": [
    "import secrets\n",
    "\n",
    "def secret_key_generator(n):\n",
    "    for i in range(n):\n",
    "        yield secrets.token_hex() \n",
    "\n",
    "gen = secret_key_generator(10)"
   ]
  },
  {
   "cell_type": "code",
   "execution_count": 69,
   "metadata": {
    "slideshow": {
     "slide_type": "fragment"
    }
   },
   "outputs": [
    {
     "data": {
      "text/plain": [
       "'9c814af4bceb652403b32d908973ae10c9433e6031a51cb0221f7196c5420aea'"
      ]
     },
     "execution_count": 69,
     "metadata": {},
     "output_type": "execute_result"
    }
   ],
   "source": [
    "next(gen)"
   ]
  },
  {
   "cell_type": "code",
   "execution_count": 70,
   "metadata": {
    "slideshow": {
     "slide_type": "fragment"
    }
   },
   "outputs": [
    {
     "data": {
      "text/plain": [
       "'6acd1731134c0b8db62f42bab49652c4accf91731dd9e1c00d1fdf2f5ee28f5d'"
      ]
     },
     "execution_count": 70,
     "metadata": {},
     "output_type": "execute_result"
    }
   ],
   "source": [
    "next(gen)"
   ]
  },
  {
   "cell_type": "code",
   "execution_count": 71,
   "metadata": {
    "slideshow": {
     "slide_type": "subslide"
    }
   },
   "outputs": [
    {
     "name": "stdout",
     "output_type": "stream",
     "text": [
      "Miaou !\n",
      "Miaou !\n",
      "Miaou !\n",
      "Miaou !\n",
      "Miaou !\n",
      "Miaou !\n",
      "Miaou !\n",
      "Miaou !\n",
      "Miaou !\n",
      "Miaou !\n"
     ]
    }
   ],
   "source": [
    "import itertools\n",
    "\n",
    "class MachineAtuer:\n",
    "    def __iter__(self):\n",
    "        while True:\n",
    "            yield \"Miaou !\"\n",
    "            \n",
    "for x in itertools.islice(MachineAtuer(), 10):\n",
    "    print(x)"
   ]
  },
  {
   "cell_type": "markdown",
   "metadata": {
    "slideshow": {
     "slide_type": "subslide"
    }
   },
   "source": [
    "## Tous les tuyaux mis bouts à bouts"
   ]
  },
  {
   "cell_type": "code",
   "execution_count": 72,
   "metadata": {
    "slideshow": {
     "slide_type": "fragment"
    }
   },
   "outputs": [],
   "source": [
    "import string\n",
    "from pathlib import Path\n",
    "\n",
    "\n",
    "def lister_mots_cles(dossier, ext):\n",
    "    for chemin in Path(dossier).glob(f'./**/*.{ext}'): # iterable\n",
    "        try:\n",
    "            with open(chemin) as f:\n",
    "                for ligne in f: # iterable\n",
    "                    for mot in ligne.split(): # iterable\n",
    "                        # expression generatrice sur un itérable passée à join... qui attend un itérable\n",
    "                        mot = \"\".join(l for l in mot if l not in string.punctuation).strip()\n",
    "                        if mot:\n",
    "                            # génération de données\n",
    "                            yield mot\n",
    "        except Exception:\n",
    "            pass\n"
   ]
  },
  {
   "cell_type": "code",
   "execution_count": 73,
   "metadata": {
    "slideshow": {
     "slide_type": "fragment"
    }
   },
   "outputs": [
    {
     "name": "stdout",
     "output_type": "stream",
     "text": [
      "- the: 2937\n",
      "- alias: 1504\n",
      "- to: 1477\n",
      "- for: 1100\n",
      "- if: 984\n"
     ]
    }
   ],
   "source": [
    "from collections import Counter\n",
    "\n",
    "# Counter accepte un itérable en a paramètre\n",
    "for mot, score in Counter(lister_mots_cles('/etc', 'conf')).most_common(5): # itérable\n",
    "    print(f'- {mot}: {score}')"
   ]
  },
  {
   "cell_type": "markdown",
   "metadata": {
    "slideshow": {
     "slide_type": "subslide"
    }
   },
   "source": [
    "<img src=\"surf.gif\">"
   ]
  },
  {
   "cell_type": "markdown",
   "metadata": {
    "slideshow": {
     "slide_type": "subslide"
    }
   },
   "source": [
    "<img src=\"surf.jpg\">"
   ]
  },
  {
   "cell_type": "markdown",
   "metadata": {
    "slideshow": {
     "slide_type": "subslide"
    }
   },
   "source": [
    "<img src=\"numpy.jpg\">"
   ]
  },
  {
   "cell_type": "code",
   "execution_count": 74,
   "metadata": {
    "slideshow": {
     "slide_type": "subslide"
    }
   },
   "outputs": [
    {
     "data": {
      "image/png": "[encoded data removed]",
      "text/plain": [
       "<matplotlib.figure.Figure at 0x7f0808754518>"
      ]
     },
     "metadata": {},
     "output_type": "display_data"
    }
   ],
   "source": [
    "import numpy as np # ou scipy, pandas, etc\n",
    "\n",
    "import matplotlib.pyplot as plt\n",
    "\n",
    "x = np.arange(0, 3 * np.pi, 0.1)\n",
    "y = np.sin(x)\n",
    "\n",
    "plt.plot(x, y)\n",
    "plt.show()  "
   ]
  },
  {
   "cell_type": "code",
   "execution_count": 75,
   "metadata": {
    "slideshow": {
     "slide_type": "fragment"
    }
   },
   "outputs": [
    {
     "name": "stdout",
     "output_type": "stream",
     "text": [
      "23.4 µs ± 491 ns per loop (mean ± std. dev. of 7 runs, 10000 loops each)\n",
      "2.5 µs ± 36.7 ns per loop (mean ± std. dev. of 7 runs, 100000 loops each)\n"
     ]
    }
   ],
   "source": [
    "import math\n",
    "\n",
    "x = np.arange(0, 3 * np.pi, 0.1)\n",
    "\n",
    "%timeit [math.sin(i) for i in x]\n",
    "%timeit np.sin(x)"
   ]
  },
  {
   "cell_type": "markdown",
   "metadata": {
    "slideshow": {
     "slide_type": "slide"
    }
   },
   "source": [
    "# Il y a un \"one more thing\" pour ça"
   ]
  },
  {
   "cell_type": "code",
   "execution_count": 76,
   "metadata": {
    "slideshow": {
     "slide_type": "fragment"
    }
   },
   "outputs": [],
   "source": [
    "def crieur():\n",
    "    while True:\n",
    "        res = yield\n",
    "        print(res.upper(), '!')\n",
    "        \n",
    "gen = crieur()\n",
    "next(gen)"
   ]
  },
  {
   "cell_type": "code",
   "execution_count": 77,
   "metadata": {
    "slideshow": {
     "slide_type": "fragment"
    }
   },
   "outputs": [
    {
     "name": "stdout",
     "output_type": "stream",
     "text": [
      "LES INTERDICTIONS !\n",
      "LES LISTES !\n",
      "LES INTERDICTIONS !\n",
      "LES REPETITIONS !\n",
      "LES METS !\n",
      "LES BLAGUES FACILES !\n"
     ]
    }
   ],
   "source": [
    "interdits = [\n",
    "    'les interdictions', \n",
    "    'les listes', \n",
    "    'les interdictions', \n",
    "    'les repetitions', \n",
    "    'les mets',\n",
    "    'les blagues faciles'\n",
    "]\n",
    "\n",
    "for x in interdits:\n",
    "    gen.send(x) "
   ]
  },
  {
   "cell_type": "markdown",
   "metadata": {
    "slideshow": {
     "slide_type": "slide"
    }
   },
   "source": [
    "\n",
    "<h1 style=\"text-align: center !important\">Télécharger les slides</h1>\n",
    "\n",
    "\n",
    "<h1 style=\"text-align: center !important\">\n",
    "https://huit.re/philo-iteration-fr\n",
    "</h1>\n",
    "\n",
    "\n",
    "<h1><img style=\"margin: auto\" src=\"qr-code.png\"></h1>\n"
   ]
  }
 ],
 "metadata": {
  "celltoolbar": "Slideshow",
  "kernelspec": {
   "display_name": "Python 3",
   "language": "python",
   "name": "python3"
  },
  "language_info": {
   "codemirror_mode": {
    "name": "ipython",
    "version": 3
   },
   "file_extension": ".py",
   "mimetype": "text/x-python",
   "name": "python",
   "nbconvert_exporter": "python",
   "pygments_lexer": "ipython3",
   "version": "3.6.2"
  }
 },
 "nbformat": 4,
 "nbformat_minor": 2
}

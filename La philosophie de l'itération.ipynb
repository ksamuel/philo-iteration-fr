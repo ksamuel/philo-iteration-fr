{
 "cells": [
  {
   "cell_type": "code",
   "execution_count": null,
   "metadata": {
    "slideshow": {
     "slide_type": "slide"
    }
   },
   "outputs": [],
   "source": [
    "implementations = ['cpython', 'pypy', 'jython', 'ironpython']\n",
    "\n",
    "for implementation in implementations:\n",
    "    print(implementation)"
   ]
  },
  {
   "cell_type": "markdown",
   "metadata": {
    "slideshow": {
     "slide_type": "slide"
    }
   },
   "source": [
    "\n",
    "\n",
    "<h1 style=\"text-align: center !important\">La philosophie de l'itération</h1>\n",
    "\n",
    "\n",
    "\n",
    "\n",
    "<p style=\"text-align: center !important\">\n",
    "\n",
    "<br><br><br><br>kevin@formationspython.com\n",
    "\n",
    "</p>\n"
   ]
  },
  {
   "cell_type": "markdown",
   "metadata": {
    "slideshow": {
     "slide_type": "slide"
    }
   },
   "source": [
    "# Un design pattern : iterator"
   ]
  },
  {
   "cell_type": "markdown",
   "metadata": {
    "slideshow": {
     "slide_type": "subslide"
    }
   },
   "source": [
    "Eviter de boucler à la main:\n",
    "\n",
    "```c\n",
    "    const char *relatedTopics[] = { \n",
    "        \"++\", \n",
    "        \"jerome\", \n",
    "        \"pas ma faute\", \n",
    "        NULL \n",
    "    };\n",
    "\n",
    "    for (int i=0; relatedTopics[i]; ++i) {\n",
    "        const char *ch = relatedTopics[i]; \n",
    "        while(*ch) {\n",
    "            putchar(*ch++);\n",
    "            putchar('\\n');\n",
    "        }\n",
    "        putchar('\\n');\n",
    "    }\n",
    "    \n",
    "```"
   ]
  },
  {
   "cell_type": "markdown",
   "metadata": {
    "slideshow": {
     "slide_type": "subslide"
    }
   },
   "source": [
    "<img src=\"java_iterable.png\">"
   ]
  },
  {
   "cell_type": "markdown",
   "metadata": {
    "slideshow": {
     "slide_type": "subslide"
    }
   },
   "source": [
    "<img src=\"c_shar_iterable.png\">"
   ]
  },
  {
   "cell_type": "markdown",
   "metadata": {
    "slideshow": {
     "slide_type": "subslide"
    }
   },
   "source": [
    "# Visitor\n",
    "\n",
    "Methode `forEach` des arrays en JS:\n",
    "\n",
    "```javascript\n",
    "var nope = [\"==\", \"with\", \"eval\"];\n",
    "nope.forEach((e) => {\n",
    "    console.log(e)\n",
    "});\n",
    "```\n",
    "\n",
    "\"L'iterator\" `each` de Ruby:\n",
    "\n",
    "```Ruby\n",
    "popularProjects = [\"RoR\", \"rails\", \"Ruby on Rails\"];\n",
    "popularProjects.each do |i|\n",
    "   puts i\n",
    "end\n",
    "});\n",
    "```\n"
   ]
  },
  {
   "cell_type": "markdown",
   "metadata": {
    "slideshow": {
     "slide_type": "slide"
    }
   },
   "source": [
    "# Comment Python fait marcher tout ça"
   ]
  },
  {
   "cell_type": "code",
   "execution_count": null,
   "metadata": {
    "slideshow": {
     "slide_type": "subslide"
    }
   },
   "outputs": [],
   "source": [
    "cris = ['Cowabunga', 'Yippee ki-yay, mofo', 'Wololo'] \n",
    "\n",
    "# cris = set(['Cowabunga', 'Yippee ki-yay, mofo', 'Wololo'])\n",
    "# cris = tuple(['Cowabunga', 'Yippee ki-yay, mofo', 'Wololo'])\n",
    "# cris = dict.fromkeys(['Cowabunga', 'Yippee ki-yay, mofo', 'Wololo'])\n",
    "\n",
    "print(f\"{type(cris)} de cris :\")\n",
    "\n",
    "for cri in cris:\n",
    "    print(cri, '!')\n"
   ]
  },
  {
   "cell_type": "code",
   "execution_count": null,
   "metadata": {
    "slideshow": {
     "slide_type": "subslide"
    }
   },
   "outputs": [],
   "source": [
    "cris = ['Cowabunga', 'Yippee ki-yay, mofo', 'Wololo'] \n",
    "\n",
    "#cris = set(['Cowabunga', 'Yippee ki-yay, mofo', 'Wololo'])\n",
    "#cris = tuple(['Cowabunga', 'Yippee ki-yay, mofo', 'Wololo'])\n",
    "#cris = dict.fromkeys(['Cowabunga', 'Yippee ki-yay, mofo', 'Wololo'])"
   ]
  },
  {
   "cell_type": "code",
   "execution_count": null,
   "metadata": {
    "slideshow": {
     "slide_type": "fragment"
    }
   },
   "outputs": [],
   "source": [
    "sauce_magique = iter(cris)"
   ]
  },
  {
   "cell_type": "code",
   "execution_count": null,
   "metadata": {
    "slideshow": {
     "slide_type": "fragment"
    }
   },
   "outputs": [],
   "source": [
    "type(sauce_magique)"
   ]
  },
  {
   "cell_type": "code",
   "execution_count": null,
   "metadata": {
    "slideshow": {
     "slide_type": "fragment"
    }
   },
   "outputs": [],
   "source": [
    "next(sauce_magique)"
   ]
  },
  {
   "cell_type": "code",
   "execution_count": null,
   "metadata": {
    "slideshow": {
     "slide_type": "fragment"
    }
   },
   "outputs": [],
   "source": [
    "next(sauce_magique)"
   ]
  },
  {
   "cell_type": "code",
   "execution_count": null,
   "metadata": {
    "slideshow": {
     "slide_type": "fragment"
    }
   },
   "outputs": [],
   "source": [
    "next(sauce_magique)"
   ]
  },
  {
   "cell_type": "code",
   "execution_count": null,
   "metadata": {
    "slideshow": {
     "slide_type": "fragment"
    }
   },
   "outputs": [],
   "source": [
    "next(sauce_magique)"
   ]
  },
  {
   "cell_type": "markdown",
   "metadata": {
    "slideshow": {
     "slide_type": "slide"
    }
   },
   "source": [
    "# Iterator, l'interface universelle"
   ]
  },
  {
   "cell_type": "code",
   "execution_count": null,
   "metadata": {
    "slideshow": {
     "slide_type": "subslide"
    }
   },
   "outputs": [],
   "source": [
    "for i in range(1, 4):\n",
    "    print(i)"
   ]
  },
  {
   "cell_type": "code",
   "execution_count": null,
   "metadata": {
    "slideshow": {
     "slide_type": "fragment"
    }
   },
   "outputs": [],
   "source": [
    "for lettre in \"abc\":\n",
    "    print(lettre)"
   ]
  },
  {
   "cell_type": "code",
   "execution_count": null,
   "metadata": {
    "slideshow": {
     "slide_type": "fragment"
    }
   },
   "outputs": [],
   "source": [
    "for ligne in open('answers.txt'):\n",
    "    print(ligne)"
   ]
  },
  {
   "cell_type": "code",
   "execution_count": null,
   "metadata": {
    "slideshow": {
     "slide_type": "subslide"
    }
   },
   "outputs": [],
   "source": [
    "list(open('answers.txt'))"
   ]
  },
  {
   "cell_type": "code",
   "execution_count": null,
   "metadata": {
    "slideshow": {
     "slide_type": "fragment"
    }
   },
   "outputs": [],
   "source": [
    "tuple(range(1, 4))"
   ]
  },
  {
   "cell_type": "code",
   "execution_count": null,
   "metadata": {
    "slideshow": {
     "slide_type": "fragment"
    }
   },
   "outputs": [],
   "source": [
    "set('abc')"
   ]
  },
  {
   "cell_type": "code",
   "execution_count": null,
   "metadata": {
    "slideshow": {
     "slide_type": "subslide"
    }
   },
   "outputs": [],
   "source": [
    "sum([1, 2, 3])"
   ]
  },
  {
   "cell_type": "code",
   "execution_count": null,
   "metadata": {
    "slideshow": {
     "slide_type": "fragment"
    }
   },
   "outputs": [],
   "source": [
    "sum(set([1, 2, 3]))"
   ]
  },
  {
   "cell_type": "code",
   "execution_count": null,
   "metadata": {
    "slideshow": {
     "slide_type": "fragment"
    }
   },
   "outputs": [],
   "source": [
    "sum(range(1, 4))"
   ]
  },
  {
   "cell_type": "code",
   "execution_count": null,
   "metadata": {
    "slideshow": {
     "slide_type": "fragment"
    }
   },
   "outputs": [],
   "source": [
    "sum(map(int, \"123\"))"
   ]
  },
  {
   "cell_type": "code",
   "execution_count": null,
   "metadata": {
    "slideshow": {
     "slide_type": "subslide"
    }
   },
   "outputs": [],
   "source": [
    "sorted(set(['Cowabunga', 'Yippee ki-yay, mofo', 'Wololo']))"
   ]
  },
  {
   "cell_type": "code",
   "execution_count": null,
   "metadata": {
    "slideshow": {
     "slide_type": "fragment"
    }
   },
   "outputs": [],
   "source": [
    "list(filter(bool, (True, False, None, 1, 0)))"
   ]
  },
  {
   "cell_type": "code",
   "execution_count": null,
   "metadata": {
    "slideshow": {
     "slide_type": "fragment"
    }
   },
   "outputs": [],
   "source": [
    "\"/////////////\".join(open('answers.txt'))"
   ]
  },
  {
   "cell_type": "code",
   "execution_count": null,
   "metadata": {
    "slideshow": {
     "slide_type": "fragment"
    }
   },
   "outputs": [],
   "source": [
    "for i, ligne in enumerate('abc', 1):\n",
    "    print(i, ligne)"
   ]
  },
  {
   "cell_type": "markdown",
   "metadata": {
    "slideshow": {
     "slide_type": "subslide"
    }
   },
   "source": [
    "## L'unpacking"
   ]
  },
  {
   "cell_type": "code",
   "execution_count": null,
   "metadata": {
    "slideshow": {
     "slide_type": "fragment"
    }
   },
   "outputs": [],
   "source": [
    "x, y = (1, 2)\n",
    "print(x)"
   ]
  },
  {
   "cell_type": "code",
   "execution_count": null,
   "metadata": {},
   "outputs": [],
   "source": [
    "def point():\n",
    "    return 1, 2\n",
    "\n",
    "x, y = point()\n",
    "print(y)"
   ]
  },
  {
   "cell_type": "code",
   "execution_count": null,
   "metadata": {
    "slideshow": {
     "slide_type": "subslide"
    }
   },
   "outputs": [],
   "source": [
    "a, b, c = [\"Aligator\", \"Behemot\", \"Claude\"]\n",
    "print(f'a = {a}')\n",
    "print(f'b = {b}')\n",
    "print(f'c = {c}')  "
   ]
  },
  {
   "cell_type": "code",
   "execution_count": null,
   "metadata": {
    "slideshow": {
     "slide_type": "fragment"
    }
   },
   "outputs": [],
   "source": [
    "a, b, c = open('answers.txt')\n",
    "print(f'a = {a}')\n",
    "print(f'b = {b}')\n",
    "print(f'c = {c}') "
   ]
  },
  {
   "cell_type": "code",
   "execution_count": null,
   "metadata": {
    "slideshow": {
     "slide_type": "fragment"
    }
   },
   "outputs": [],
   "source": [
    "a, *b, d = range(100)\n",
    "print(f'a = {a}')\n",
    "print(f'b = {b}')\n",
    "print(f'd = {d}')"
   ]
  },
  {
   "cell_type": "code",
   "execution_count": null,
   "metadata": {
    "slideshow": {
     "slide_type": "subslide"
    }
   },
   "outputs": [],
   "source": [
    "print(*'abc', sep=\"#\")  # équivaut à print(\"a\", \"b\", \"c\", sep=\"#\")"
   ]
  },
  {
   "cell_type": "code",
   "execution_count": null,
   "metadata": {
    "slideshow": {
     "slide_type": "fragment"
    }
   },
   "outputs": [],
   "source": [
    "[*range(3), *open('answers.txt'), *set(cris)]  # marche aussi pour merger des dictionnaires avec ** :)"
   ]
  },
  {
   "cell_type": "code",
   "execution_count": null,
   "metadata": {
    "slideshow": {
     "slide_type": "fragment"
    }
   },
   "outputs": [],
   "source": [
    "pixels = [\"rouge\", \"vert\", \"bleu\", \"rouge\", \"vert\", \"bleu\", \"rouge\", \"vert\", \"bleu\"]\n",
    "pixels[::3], pixels[2::3] = pixels[2::3], pixels[::3]\n",
    "pixels"
   ]
  },
  {
   "cell_type": "code",
   "execution_count": null,
   "metadata": {
    "slideshow": {
     "slide_type": "subslide"
    }
   },
   "outputs": [],
   "source": [
    "import collections # amis des itérables\n",
    "\n",
    "Counter('dkjflch ldkfhjdlskqfvdkfdhqkj')\n",
    "\n",
    "# collections.deque\n",
    "# collections.defaultdict\n",
    "# collections.OrderedDict\n",
    "# collections.namedtuple"
   ]
  },
  {
   "cell_type": "code",
   "execution_count": null,
   "metadata": {
    "slideshow": {
     "slide_type": "fragment"
    }
   },
   "outputs": [],
   "source": [
    "# Prend n'importe quel itérable\n",
    "\n",
    "print(any([True, True, False, True, False]))\n",
    "print(all([True, True, False, True, False]))\n",
    "print(max([5, 10, 4, 1]))\n",
    "# min\n",
    "# reduce"
   ]
  },
  {
   "cell_type": "markdown",
   "metadata": {
    "slideshow": {
     "slide_type": "subslide"
    }
   },
   "source": [
    "Retourne des itérables:\n",
    "\n",
    "- bytes\n",
    "- csv.reader\n",
    "- os.walk\n",
    "- multiprocessing.Pool.map\n",
    "- sqlite3.cursor\n",
    "- xml.etree.ElementTree\n",
    "\n",
    "\n",
    "Et même les libs externes:\n",
    "\n",
    "- Querysets des ORMs (Django, SQLAlchemy, Peewee...);\n",
    "- Body des réponses de WSGI "
   ]
  },
  {
   "cell_type": "markdown",
   "metadata": {
    "slideshow": {
     "slide_type": "subslide"
    }
   },
   "source": [
    "## Un module juste pour les itérables\n",
    "\n",
    "\n",
    "\n",
    "```python\n",
    "import itertools\n",
    "\n",
    "itertools.accumulate\n",
    "itertools.chain\n",
    "itertools.combinations\n",
    "itertools.combinations_with_replacement\n",
    "itertools.compress\n",
    "itertools.count\n",
    "itertools.cycle\n",
    "itertools.dropwhile\n",
    "itertools.filterfalse\n",
    "itertools.groupby\n",
    "itertools.islice\n",
    "itertools.permutations\n",
    "itertools.product\n",
    "itertools.repeat\n",
    "itertools.starmap\n",
    "itertools.takewhile\n",
    "itertools.tee\n",
    "itertools.zip_longest\n",
    "```"
   ]
  },
  {
   "cell_type": "code",
   "execution_count": null,
   "metadata": {
    "slideshow": {
     "slide_type": "subslide"
    }
   },
   "outputs": [],
   "source": [
    "for x in itertools.chain('abc', range(3)):\n",
    "    print(x)"
   ]
  },
  {
   "cell_type": "code",
   "execution_count": null,
   "metadata": {
    "slideshow": {
     "slide_type": "fragment"
    }
   },
   "outputs": [],
   "source": [
    "list(itertools.product('abc', range(3)))"
   ]
  },
  {
   "cell_type": "code",
   "execution_count": null,
   "metadata": {
    "slideshow": {
     "slide_type": "fragment"
    }
   },
   "outputs": [],
   "source": [
    "histoire_de_la_vie = iter(itertools.cycle('abc'))\n",
    "print(next(histoire_de_la_vie))\n",
    "print(next(histoire_de_la_vie))\n",
    "print(next(histoire_de_la_vie))\n",
    "print(next(histoire_de_la_vie))"
   ]
  },
  {
   "cell_type": "markdown",
   "metadata": {
    "slideshow": {
     "slide_type": "slide"
    }
   },
   "source": [
    "# Le flux de données"
   ]
  },
  {
   "cell_type": "code",
   "execution_count": null,
   "metadata": {
    "slideshow": {
     "slide_type": "subslide"
    }
   },
   "outputs": [],
   "source": [
    "import subprocess\n",
    "\n",
    "res = subprocess.check_output([\"ifconfig\"], encoding=\"utf8\")   # devinez ce qu'attend \"call\" en paramètre ?\n",
    "\n",
    "print(res) "
   ]
  },
  {
   "cell_type": "code",
   "execution_count": null,
   "metadata": {
    "slideshow": {
     "slide_type": "subslide"
    }
   },
   "outputs": [],
   "source": [
    "import re, subprocess\n",
    "\n",
    "res = subprocess.check_output([\"ifconfig\"], encoding=\"utf8\")\n",
    "reg = re.compile(r'(\\S+).*\\n.*adr:(\\S+)')"
   ]
  },
  {
   "cell_type": "code",
   "execution_count": null,
   "metadata": {
    "slideshow": {
     "slide_type": "fragment"
    }
   },
   "outputs": [],
   "source": [
    "interfaces = {}\n",
    "for block in res.split('\\n\\n'): \n",
    "    if 'adr' in block:\n",
    "        interface, ip = reg.match(block).groups()\n",
    "        interfaces[interface] = ip\n",
    "print(interfaces)"
   ]
  },
  {
   "cell_type": "code",
   "execution_count": null,
   "metadata": {
    "slideshow": {
     "slide_type": "fragment"
    }
   },
   "outputs": [],
   "source": [
    "interfaces = [reg.match(block).groups() for block in res.split('\\n\\n') if 'adr' in block]\n",
    "dict(interfaces)"
   ]
  },
  {
   "cell_type": "markdown",
   "metadata": {
    "slideshow": {
     "slide_type": "subslide"
    }
   },
   "source": [
    "## Les intensions"
   ]
  },
  {
   "cell_type": "code",
   "execution_count": null,
   "metadata": {
    "slideshow": {
     "slide_type": "fragment"
    }
   },
   "outputs": [],
   "source": [
    "[x * x for x in range(10)]"
   ]
  },
  {
   "cell_type": "code",
   "execution_count": null,
   "metadata": {
    "slideshow": {
     "slide_type": "fragment"
    }
   },
   "outputs": [],
   "source": [
    "{x: x * x for x in range(10)}"
   ]
  },
  {
   "cell_type": "code",
   "execution_count": null,
   "metadata": {
    "slideshow": {
     "slide_type": "fragment"
    }
   },
   "outputs": [],
   "source": [
    "{x * x for x in range(10)}"
   ]
  },
  {
   "cell_type": "markdown",
   "metadata": {
    "slideshow": {
     "slide_type": "subslide"
    }
   },
   "source": [
    "## Les expressions génératrices"
   ]
  },
  {
   "cell_type": "code",
   "execution_count": null,
   "metadata": {
    "slideshow": {
     "slide_type": "fragment"
    }
   },
   "outputs": [],
   "source": [
    "# NOPE !\n",
    "# res = [x * x for x in range(10000000000000)] "
   ]
  },
  {
   "cell_type": "code",
   "execution_count": null,
   "metadata": {
    "slideshow": {
     "slide_type": "fragment"
    }
   },
   "outputs": [],
   "source": [
    "res = (x * x for x in range(10000000000000))"
   ]
  },
  {
   "cell_type": "code",
   "execution_count": null,
   "metadata": {
    "slideshow": {
     "slide_type": "fragment"
    }
   },
   "outputs": [],
   "source": [
    "res"
   ]
  },
  {
   "cell_type": "code",
   "execution_count": null,
   "metadata": {
    "slideshow": {
     "slide_type": "fragment"
    }
   },
   "outputs": [],
   "source": [
    "next(res)"
   ]
  },
  {
   "cell_type": "code",
   "execution_count": null,
   "metadata": {
    "slideshow": {
     "slide_type": "fragment"
    }
   },
   "outputs": [],
   "source": [
    "next(res)"
   ]
  },
  {
   "cell_type": "code",
   "execution_count": null,
   "metadata": {
    "slideshow": {
     "slide_type": "fragment"
    }
   },
   "outputs": [],
   "source": [
    "print(next(res))\n",
    "print(next(res))\n",
    "print(next(res))"
   ]
  },
  {
   "cell_type": "code",
   "execution_count": null,
   "metadata": {
    "slideshow": {
     "slide_type": "subslide"
    }
   },
   "outputs": [],
   "source": [
    "import sqlite3\n",
    "\n",
    "def get_results(n=10, profile=\"/home/pycon/.mozilla/firefox/l92ue2kx.default/places.sqlite\"):\n",
    "    return sqlite3.connect(profile).execute(\"\"\"\n",
    "        SELECT sites.rev_host as host, count(*) as visits FROM moz_historyvisits as visits, moz_places as sites\n",
    "        WHERE  visits.place_id == sites.id GROUP BY host ORDER BY visits DESC\n",
    "    \"\"\")"
   ]
  },
  {
   "cell_type": "code",
   "execution_count": null,
   "metadata": {
    "slideshow": {
     "slide_type": "fragment"
    }
   },
   "outputs": [],
   "source": [
    "sites = ((dom[-2::-1], vis) for dom, vis in get_results())"
   ]
  },
  {
   "cell_type": "code",
   "execution_count": null,
   "metadata": {
    "slideshow": {
     "slide_type": "fragment"
    }
   },
   "outputs": [],
   "source": [
    "MOTEURS = set(['duckduckgo', 'google', 'bing', 'qwant'])\n",
    "sites = ((dom, vis) for dom, vis in sites if not any(m in dom for m in MOTEURS)) "
   ]
  },
  {
   "cell_type": "code",
   "execution_count": null,
   "metadata": {
    "slideshow": {
     "slide_type": "fragment"
    }
   },
   "outputs": [],
   "source": [
    "import itertools\n",
    "sites = itertools.islice(sites, 0, 5) "
   ]
  },
  {
   "cell_type": "code",
   "execution_count": null,
   "metadata": {
    "slideshow": {
     "slide_type": "fragment"
    }
   },
   "outputs": [],
   "source": [
    "sites"
   ]
  },
  {
   "cell_type": "code",
   "execution_count": null,
   "metadata": {
    "slideshow": {
     "slide_type": "fragment"
    }
   },
   "outputs": [],
   "source": [
    "next(sites)"
   ]
  },
  {
   "cell_type": "code",
   "execution_count": null,
   "metadata": {
    "slideshow": {
     "slide_type": "fragment"
    }
   },
   "outputs": [],
   "source": [
    "next(sites)"
   ]
  },
  {
   "cell_type": "code",
   "execution_count": null,
   "metadata": {
    "slideshow": {
     "slide_type": "fragment"
    }
   },
   "outputs": [],
   "source": [
    "for s in sites:\n",
    "    print(s)"
   ]
  },
  {
   "cell_type": "markdown",
   "metadata": {
    "slideshow": {
     "slide_type": "subslide"
    }
   },
   "source": [
    "## Yield"
   ]
  },
  {
   "cell_type": "code",
   "execution_count": null,
   "metadata": {
    "slideshow": {
     "slide_type": "subslide"
    }
   },
   "outputs": [],
   "source": [
    "def fonction_normale():\n",
    "    print('Avant le premier return')\n",
    "    return 1\n",
    "    print('Apres le premier return')\n",
    "    return 2\n",
    "    print(\"Apres le second return\")\n",
    "    return 3\n",
    "    print('Tout à la fin')\n",
    "    \n",
    "res = fonction_normale()\n",
    "print(res)"
   ]
  },
  {
   "cell_type": "code",
   "execution_count": null,
   "metadata": {
    "slideshow": {
     "slide_type": "subslide"
    }
   },
   "outputs": [],
   "source": [
    "def fabriquer_un_generateur():\n",
    "    print('Avant le premier yield')\n",
    "    yield 1\n",
    "    print('Apres le premier yield')\n",
    "    yield 2\n",
    "    print(\"Apres le second yield\")\n",
    "    yield 3\n",
    "    print('Tout à la fin')\n",
    "    \n",
    "res = fabriquer_un_generateur()\n",
    "print(res)"
   ]
  },
  {
   "cell_type": "code",
   "execution_count": null,
   "metadata": {
    "slideshow": {
     "slide_type": "fragment"
    }
   },
   "outputs": [],
   "source": [
    "next(res)"
   ]
  },
  {
   "cell_type": "code",
   "execution_count": null,
   "metadata": {
    "slideshow": {
     "slide_type": "fragment"
    }
   },
   "outputs": [],
   "source": [
    "next(res)"
   ]
  },
  {
   "cell_type": "code",
   "execution_count": null,
   "metadata": {
    "slideshow": {
     "slide_type": "fragment"
    }
   },
   "outputs": [],
   "source": [
    "for x in res:\n",
    "    print(x)"
   ]
  },
  {
   "cell_type": "code",
   "execution_count": null,
   "metadata": {
    "slideshow": {
     "slide_type": "subslide"
    }
   },
   "outputs": [],
   "source": [
    "import secrets\n",
    "\n",
    "def secret_key_generator(n):\n",
    "    for i in range(n):\n",
    "        yield secrets.token_hex() \n",
    "\n",
    "gen = secret_key_generator(10)"
   ]
  },
  {
   "cell_type": "code",
   "execution_count": null,
   "metadata": {
    "slideshow": {
     "slide_type": "fragment"
    }
   },
   "outputs": [],
   "source": [
    "next(gen)"
   ]
  },
  {
   "cell_type": "code",
   "execution_count": null,
   "metadata": {
    "slideshow": {
     "slide_type": "fragment"
    }
   },
   "outputs": [],
   "source": [
    "next(gen)"
   ]
  },
  {
   "cell_type": "code",
   "execution_count": null,
   "metadata": {
    "slideshow": {
     "slide_type": "subslide"
    }
   },
   "outputs": [],
   "source": [
    "import itertools\n",
    "\n",
    "class MachineAtuer:\n",
    "    def __iter__(self):\n",
    "        while True:\n",
    "            yield \"Miaou !\"\n",
    "            \n",
    "for x in itertools.islice(MachineAtuer(), 10):\n",
    "    print(x)"
   ]
  },
  {
   "cell_type": "markdown",
   "metadata": {
    "slideshow": {
     "slide_type": "subslide"
    }
   },
   "source": [
    "## Tous les tuyaux mis bouts à bouts"
   ]
  },
  {
   "cell_type": "code",
   "execution_count": null,
   "metadata": {
    "slideshow": {
     "slide_type": "fragment"
    }
   },
   "outputs": [],
   "source": [
    "import string\n",
    "from pathlib import Path\n",
    "\n",
    "\n",
    "def lister_mots_cles(dossier, ext):\n",
    "    for chemin in Path(dossier).glob(f'./**/*.{ext}'): # iterable\n",
    "        try:\n",
    "            with open(chemin) as f:\n",
    "                for ligne in f: # iterable\n",
    "                    for mot in ligne.split(): # iterable\n",
    "                        # expression generatrice sur un itérable passée à join... qui attend un itérable\n",
    "                        mot = \"\".join(l for l in mot if l not in string.punctuation).strip()\n",
    "                        if mot:\n",
    "                            # génération de données\n",
    "                            yield mot\n",
    "        except Exception:\n",
    "            pass\n"
   ]
  },
  {
   "cell_type": "code",
   "execution_count": null,
   "metadata": {
    "slideshow": {
     "slide_type": "fragment"
    }
   },
   "outputs": [],
   "source": [
    "from collections import Counter\n",
    "\n",
    "# Counter accepte un itérable en a paramètre\n",
    "for mot, score in Counter(lister_mots_cles('/etc', 'conf')).most_common(5): # itérable\n",
    "    print(f'- {mot}: {score}')"
   ]
  },
  {
   "cell_type": "markdown",
   "metadata": {
    "slideshow": {
     "slide_type": "subslide"
    }
   },
   "source": [
    "<img src=\"surf.gif\">"
   ]
  },
  {
   "cell_type": "markdown",
   "metadata": {
    "slideshow": {
     "slide_type": "subslide"
    }
   },
   "source": [
    "<img src=\"surf.jpg\">"
   ]
  },
  {
   "cell_type": "markdown",
   "metadata": {
    "slideshow": {
     "slide_type": "subslide"
    }
   },
   "source": [
    "<img src=\"numpy.jpg\">"
   ]
  },
  {
   "cell_type": "code",
   "execution_count": null,
   "metadata": {
    "slideshow": {
     "slide_type": "subslide"
    }
   },
   "outputs": [],
   "source": [
    "import numpy as np # ou scipy, pandas, etc\n",
    "\n",
    "import matplotlib.pyplot as plt\n",
    "\n",
    "x = np.arange(0, 3 * np.pi, 0.1)\n",
    "y = np.sin(x)\n",
    "\n",
    "plt.plot(x, y)\n",
    "plt.show()  "
   ]
  },
  {
   "cell_type": "code",
   "execution_count": null,
   "metadata": {
    "slideshow": {
     "slide_type": "fragment"
    }
   },
   "outputs": [],
   "source": [
    "import math\n",
    "\n",
    "x = np.arange(0, 3 * np.pi, 0.1)\n",
    "\n",
    "%timeit [math.sin(i) for i in x]\n",
    "%timeit np.sin(x)"
   ]
  },
  {
   "cell_type": "markdown",
   "metadata": {
    "slideshow": {
     "slide_type": "slide"
    }
   },
   "source": [
    "# Il y a un \"one more thing\" pour ça"
   ]
  },
  {
   "cell_type": "code",
   "execution_count": null,
   "metadata": {
    "slideshow": {
     "slide_type": "fragment"
    }
   },
   "outputs": [],
   "source": [
    "def crieur():\n",
    "    while True:\n",
    "        res = yield\n",
    "        print(res.upper(), '!')\n",
    "        \n",
    "gen = crieur()\n",
    "next(gen)"
   ]
  },
  {
   "cell_type": "code",
   "execution_count": null,
   "metadata": {
    "slideshow": {
     "slide_type": "fragment"
    }
   },
   "outputs": [],
   "source": [
    "interdits = [\n",
    "    'les interdictions', \n",
    "    'les listes', \n",
    "    'les interdictions', \n",
    "    'les repetitions', \n",
    "    'les mets',\n",
    "    'les blagues faciles'\n",
    "]\n",
    "\n",
    "for x in interdits:\n",
    "    gen.send(x) "
   ]
  },
  {
   "cell_type": "markdown",
   "metadata": {
    "slideshow": {
     "slide_type": "slide"
    }
   },
   "source": [
    "\n",
    "<h1 style=\"text-align: center !important\">Télécharger les slides</h1>\n",
    "\n",
    "\n",
    "<h1 style=\"text-align: center !important\">\n",
    "https://formationspython.com/philo-iteration-fr.zip\n",
    "</h1>\n",
    "\n",
    "\n",
    "<h1><img style=\"margin: auto\" src=\"qr-code.png\"></h1>\n"
   ]
  }
 ],
 "metadata": {
  "celltoolbar": "Slideshow",
  "kernelspec": {
   "display_name": "Python 3",
   "language": "python",
   "name": "python3"
  },
  "language_info": {
   "codemirror_mode": {
    "name": "ipython",
    "version": 3
   },
   "file_extension": ".py",
   "mimetype": "text/x-python",
   "name": "python",
   "nbconvert_exporter": "python",
   "pygments_lexer": "ipython3",
   "version": "3.6.2"
  }
 },
 "nbformat": 4,
 "nbformat_minor": 2
}
